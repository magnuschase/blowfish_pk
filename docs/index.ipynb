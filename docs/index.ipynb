{
 "cells": [
  {
   "cell_type": "markdown",
   "metadata": {
    "editable": true,
    "slideshow": {
     "slide_type": ""
    },
    "tags": [],
    "vscode": {
     "languageId": "latex"
    }
   },
   "source": [
    "\\begin{center}\n",
    "\t\\textbf{} \\\\[3ex]\n",
    "\t\\textbf{Projekt z przedmiotu \\textit{Matematyka dyskretna}} \\\\[1ex]\n",
    "\t\\textbf{Kierunek:} Informatyka, niestacjonarne \\\\[1ex]\n",
    "\t\\textbf{Uczelnia:} Politechnika Krakowska \\\\[1ex]\n",
    "\t\\textbf{Numer albumu:} 151885 \\\\[1ex]\n",
    "\t\\textbf{Numer tematu:} 10\n",
    "\\end{center}\n",
    "\\newpage\n",
    "\\renewcommand{\\contentsname}{Spis treści}\n",
    "\\tableofcontents\n",
    "\\newpage"
   ]
  },
  {
   "cell_type": "markdown",
   "metadata": {
    "editable": true,
    "slideshow": {
     "slide_type": ""
    },
    "tags": []
   },
   "source": [
    "# Opis algorytmu Blowfish\n",
    "Blowfish to symetryczny algorytm szyfrowania blokowego zaprojektowany przez Bruce’a Schneiera w 1993 roku. Powstał jako szybka i bezpłatna alternatywa dla istniejących w tym czasie algorytmów. Bazuje on na strukturze stosowanej w budowie symetrycznych algorytmów szyfrujących - sieci Feistela. Na jego bazie powstała jedna z najbardziej powszechnie używanych funkcji do hashowania haseł - `bcrypt`, autorstwa Nielsa Provosa i Davida Mazièresa, zaprezentowana na konferencji USENIX w 1999 roku \\cite{provos1999future}.\n",
    "\n",
    "## Parametry:\n",
    "- Długość bloku: 64 bity (8 bajtów)\n",
    "- Długość klucza: od 32 do 448 bitów\n",
    "- Struktura: 16 rund Feistela\n",
    "- Operacje: XOR, dodawanie modulo $2^{32}$, podstawienia (S-boxy)\n",
    "\n",
    "\\newpage\n",
    "\n",
    "## Struktura algorytmu:\n",
    "\n",
    "- Algorytm dzieli blok wejściowy na dwie połowy: \\( L \\) i \\( R \\).\n",
    "\n",
    "- W każdej rundzie:  \n",
    "$$\n",
    "\\begin{aligned}\n",
    "  L_i &= R_{i-1} \\\\\n",
    "  R_i &= L_{i-1} \\oplus F(R_{i-1}) \\oplus P_i\n",
    "\\end{aligned}\n",
    "$$\n",
    "- Po 16 rundach następuje końcowy swap oraz operacja XOR z tablicą \\( P \\).\n",
    "\n",
    "- W algorytmie wykorzystywane są 4 tablice S-boxów oraz tablica P-array zawierająca podklucze."
   ]
  },
  {
   "cell_type": "markdown",
   "metadata": {},
   "source": [
    "![Struktura algorytmu blowfish](images/blowfish-structure.jpg)\n",
    "\\begin{center}\n",
    "\tStruktura algorytmu Blowfish \\cite{kareemSalim2023Blowfish}\n",
    "\\end{center}\n",
    "\\newpage"
   ]
  },
  {
   "cell_type": "markdown",
   "metadata": {},
   "source": [
    "## Pseudokod algorytmu\n",
    "\n",
    "```text\n",
    "\n",
    "P[18] // P: tablica 18-elementowa\n",
    "S[4][256] // S: 4 tablice po 256 elementów\n",
    "\n",
    "F(x):\n",
    "    a, b, c, d := 8-bitowe segmenty wejścia x\n",
    "    zwróć ((S1[a] + S2[b]) XOR S3[c]) + S4[d]\n",
    "\n",
    "Blowfish_Encrypt_Block(L, R):\n",
    "    dla każdego i od 1 do 16:\n",
    "        L := L XOR P[i]\n",
    "        R := F(L) XOR R\n",
    "        zamień L oraz R\n",
    "    zamień L oraz R\n",
    "    R := R XOR P[17]\n",
    "    L := L XOR P[18]\n",
    "    zwróć (L, R)\n",
    "\n",
    "Blowfish_Decrypt_Block(L, R):\n",
    "    dla każdego i od 17 do 2:\n",
    "        L := L XOR P[i]\n",
    "        R := F(L) XOR R\n",
    "        zamień L oraz R\n",
    "    zamień L oraz R\n",
    "    R := R XOR P[1]\n",
    "    L := L XOR P[0]\n",
    "    zwróć (L, R)\n",
    "```\n",
    "\n",
    "Jak możemy zauważyć, w powyższym pseudokodzie uwzględniłem funkcje `F`, `Blowfish_Encrypt_Block` oraz `Blowfish_Decrypt_Block`. Do pełnego działania algorytmu będziemy jednak potrzebować także funkcje pomocnicze (`Pad`, `Unpad`), które pomimo tego, że nie są częścią samego szyfrowania, są integralną częścią implementacji algorytmu. Funkcje te dodają otoczkę, która pozwoli nam na bezpośrednie zastosowanie tego algorytmu na tekście, bez widocznego podziału na bloki. Ostatnią częścią pseudokodu są funkcje składające wszystko w jedną spójną całość - `Blowfish_Encrypt_Text` oraz `Blowfish_Decrypt_Text`.\n",
    "\n",
    "```text\n",
    "Pad(text):\n",
    "    pad_len := 8 - (długość(text) mod 8)\n",
    "    dodaj pad_len bajtów o wartości pad_len na koniec text\n",
    "    zwróć text\n",
    "\n",
    "Unpad(text):\n",
    "    pad_len := ostatni bajt z text\n",
    "    usuń pad_len bajtów z końca text\n",
    "    zwróć text\n",
    "\n",
    "Blowfish_Encrypt_Text(plaintext):\n",
    "    plaintext := Pad(plaintext)\n",
    "    ciphertext := pusty ciąg bajtów\n",
    "    dla każdego 8-bajtowego bloku w plaintext:\n",
    "        (L, R) := interpretuj blok jako dwie liczby 32-bitowe\n",
    "        (L_enc, R_enc) := Blowfish_Encrypt_Block(L, R)\n",
    "        dodaj (L_enc, R_enc) do ciphertext jako 8 bajtów\n",
    "    zwróć ciphertext\n",
    "\n",
    "Blowfish_Decrypt_Text(ciphertext):\n",
    "    plaintext := pusty ciąg bajtów\n",
    "    dla każdego 8-bajtowego bloku w ciphertext:\n",
    "        (L, R) := interpretuj blok jako dwie liczby 32-bitowe\n",
    "        (L_dec, R_dec) := Blowfish_Decrypt_Block(L, R)\n",
    "        dodaj (L_dec, R_dec) do plaintext jako 8 bajtów\n",
    "    plaintext := Unpad(plaintext)\n",
    "    zwróć plaintext\n",
    "```\n",
    "\\newpage"
   ]
  },
  {
   "cell_type": "markdown",
   "metadata": {},
   "source": [
    "# Implementacja\n",
    "\n",
    "W ramach projektu zaimplementowałem algorytm Blowfish jako moduł Pythona. Znajduje się on w folderze `blowfish_pk`.\n",
    "\n",
    "## Plik `core.py`\n",
    "\n",
    "W tym pliku znajduje się rdzeń modułu - implementacja algorytmu szyfrującego Blowfish - funkcja `F` oraz funkcje szyfrujące bloki `L` i `R` - `encrypt_block` oraz `decrypt_block`. Dodatkowo mamy tutaj funkcje do zarządzania używanymi kluczami - `generate_keys`, `save_keys` oraz `load_keys`. Ze względu na generacje kluczy jako int32 zamiast wartości heksadecymalnej, musimy pamiętać o maskowaniu przypisywanej wartości w funkcjach szyfrujących / deszyfrujących bloki."
   ]
  },
  {
   "cell_type": "code",
   "execution_count": null,
   "metadata": {},
   "outputs": [],
   "source": [
    "import secrets\n",
    "import json\n",
    "import os\n",
    "\n",
    "# Default keys for simplified Blowfish algorithm\n",
    "P_ARRAY = [0x243F6A88, 0x85A308D3] + [0] * 16\n",
    "S_BOXES = [[i for i in range(256)] for _ in range(4)]\n",
    "\n",
    "# Generation of random keys for Blowfish - int32 arrays\n",
    "# Since keys are 32 bit integers, we need to mask values to 32 bits during encryption/decryption\n",
    "def generate_keys():\n",
    "    global P_ARRAY, S_BOXES\n",
    "    P_ARRAY = [secrets.randbits(32) for _ in range(18)]\n",
    "    S_BOXES = [[secrets.randbits(32) for _ in range(256)] for _ in range(4)]\n",
    "\n",
    "def save_keys(filename=\"blowfish_keys.json\"):\n",
    "    keys = {\n",
    "        \"P_ARRAY\": P_ARRAY,\n",
    "        \"S_BOXES\": S_BOXES\n",
    "    }\n",
    "    with open(filename, \"w\") as f:\n",
    "        json.dump(keys, f)\n",
    "\n",
    "def load_keys(filename=\"blowfish_keys.json\"):\n",
    "    global P_ARRAY, S_BOXES\n",
    "    if not os.path.exists(filename):\n",
    "        raise FileNotFoundError(f\"Key file '{filename}' not found.\")\n",
    "    with open(filename, \"r\") as f:\n",
    "        keys = json.load(f)\n",
    "        P_ARRAY = keys[\"P_ARRAY\"]\n",
    "        S_BOXES = keys[\"S_BOXES\"]\n",
    "\n",
    "def F(x):\n",
    "    a = (x >> 24) & 0xFF\n",
    "    b = (x >> 16) & 0xFF\n",
    "    c = (x >> 8) & 0xFF\n",
    "    d = x & 0xFF\n",
    "    return (((S_BOXES[0][a] + S_BOXES[1][b]) & 0xFFFFFFFF) ^ S_BOXES[2][c] + S_BOXES[3][d]) & 0xFFFFFFFF\n",
    "\n",
    "def encrypt_block(L, R):\n",
    "    for i in range(16):\n",
    "        L = (L ^ P_ARRAY[i]) & 0xFFFFFFFF\n",
    "        R = (R ^ F(L)) & 0xFFFFFFFF\n",
    "        L, R = R, L\n",
    "    L, R = R, L\n",
    "    R = (R ^ P_ARRAY[16]) & 0xFFFFFFFF\n",
    "    L = (L ^ P_ARRAY[17]) & 0xFFFFFFFF\n",
    "    return L, R\n",
    "\n",
    "def decrypt_block(L, R):\n",
    "    for i in reversed(range(2, 18)):\n",
    "        L = (L ^ P_ARRAY[i]) & 0xFFFFFFFF\n",
    "        R = (R ^ F(L)) & 0xFFFFFFFF\n",
    "        L, R = R, L\n",
    "    L, R = R, L\n",
    "    R = (R ^ P_ARRAY[1]) & 0xFFFFFFFF\n",
    "    L = (L ^ P_ARRAY[0]) & 0xFFFFFFFF\n",
    "    return L, R"
   ]
  },
  {
   "cell_type": "markdown",
   "metadata": {},
   "source": [
    "\\newpage\n",
    "## Plik `utils.py`\n",
    "\n",
    "W tym pliku znajdują się funkcje pomocnicze `pad` oraz `unpad`, oraz finalne funkcje służące do bezpośredniego użycia przez użytkownika - `encrypt_text` oraz `decrypt_text`."
   ]
  },
  {
   "cell_type": "code",
   "execution_count": null,
   "metadata": {},
   "outputs": [],
   "source": [
    "import struct\n",
    "from .core import encrypt_block, decrypt_block\n",
    "\n",
    "def pad(text: bytes) -> bytes:\n",
    "    pad_len = 8 - (len(text) % 8)\n",
    "    return text + bytes([pad_len] * pad_len)\n",
    "\n",
    "def unpad(text: bytes) -> bytes:\n",
    "    pad_len = text[-1]\n",
    "    return text[:-pad_len]\n",
    "\n",
    "def encrypt_text(plaintext_bytes: bytes) -> bytes:\n",
    "    ciphertext = b\"\"\n",
    "    padded = pad(plaintext_bytes)\n",
    "    for i in range(0, len(padded), 8):\n",
    "        block = padded[i:i+8]\n",
    "        L, R = struct.unpack('>II', block)\n",
    "        L_enc, R_enc = encrypt_block(L, R)\n",
    "        ciphertext += struct.pack('>II', L_enc, R_enc)\n",
    "    return ciphertext\n",
    "\n",
    "def decrypt_text(ciphertext_bytes: bytes) -> bytes:\n",
    "    plaintext = b\"\"\n",
    "    for i in range(0, len(ciphertext_bytes), 8):\n",
    "        block = ciphertext_bytes[i:i+8]\n",
    "        L, R = struct.unpack('>II', block)\n",
    "        L_dec, R_dec = decrypt_block(L, R)\n",
    "        plaintext += struct.pack('>II', L_dec, R_dec)\n",
    "    return unpad(plaintext)"
   ]
  },
  {
   "cell_type": "markdown",
   "metadata": {},
   "source": [
    "\\newpage\n",
    "## Przykład użycia\n",
    "\n",
    "Poniższy przykład znajduje się również w pliku `example.py`, będącym częścią modułu `blowfish_pk`."
   ]
  },
  {
   "cell_type": "code",
   "execution_count": null,
   "metadata": {},
   "outputs": [
    {
     "name": "stdout",
     "output_type": "stream",
     "text": [
      "Plaintext: b'To jest tajna wiadomosc!'\n",
      "Encrypted: b'\\xe4\\x8dV\\xc8R\\xf2\\xb09\\x04`\\xcf\\xe9\\xf0\\xcb\\xd6\\xd3\\x11\\xf0q\\xdav\\x83\\xf29\\xb31\\xf7e\\xc1\\x11\\xd1\\xdc'\n",
      "Decrypted: b'To jest tajna wiadomosc!'\n"
     ]
    }
   ],
   "source": [
    "import sys\n",
    "import os\n",
    "sys.path.append(os.path.abspath(os.path.join(os.getcwd(), '..')))\n",
    "\n",
    "from blowfish_pk.utils import encrypt_text, decrypt_text\n",
    "from blowfish_pk.core import generate_keys, save_keys\n",
    "# from blowfish_pk.core import load_keys\n",
    "\n",
    "if __name__ == \"__main__\":\n",
    "    # Key generation & saving\n",
    "    generate_keys()\n",
    "    save_keys(\"keys_example.json\")\n",
    "    \n",
    "    # Loading keys\n",
    "    # load_keys(\"keys_example.json\")\n",
    "    \n",
    "\t\t# Example usage\n",
    "    plaintext = b\"To jest tajna wiadomosc!\"\n",
    "    print(f\"Plaintext: {plaintext}\")\n",
    "\n",
    "    encrypted = encrypt_text(plaintext)\n",
    "    print(f\"Encrypted: {encrypted}\")\n",
    "\n",
    "    decrypted = decrypt_text(encrypted)\n",
    "    print(f\"Decrypted: {decrypted}\")"
   ]
  },
  {
   "cell_type": "markdown",
   "metadata": {},
   "source": [
    "\\newpage\n",
    "\\renewcommand{\\refname}{Bibliografia}\n",
    "\\bibliographystyle{plain}\n",
    "\\bibliography{citations}"
   ]
  }
 ],
 "metadata": {
  "authors": [
   {
    "name": "Jakub Kapała"
   }
  ],
  "kernelspec": {
   "display_name": "Python 3 (ipykernel)",
   "language": "python",
   "name": "python3"
  },
  "language_info": {
   "codemirror_mode": {
    "name": "ipython",
    "version": 3
   },
   "file_extension": ".py",
   "mimetype": "text/x-python",
   "name": "python",
   "nbconvert_exporter": "python",
   "pygments_lexer": "ipython3",
   "version": "3.9.6"
  },
  "title": "Algorytm Blowfish"
 },
 "nbformat": 4,
 "nbformat_minor": 4
}
